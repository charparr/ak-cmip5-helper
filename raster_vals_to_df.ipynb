{
 "cells": [
  {
   "cell_type": "code",
   "execution_count": 1,
   "id": "b74b643d",
   "metadata": {},
   "outputs": [],
   "source": [
    "import concurrent.futures\n",
    "import pandas as pd\n",
    "import rasterio as rio\n",
    "import numpy as np\n",
    "import pickle\n",
    "import glob\n",
    "from rasterio.windows import Window\n",
    "from pyproj import Transformer\n",
    "from tqdm import tqdm\n",
    "from pathlib import Path"
   ]
  },
  {
   "cell_type": "code",
   "execution_count": 2,
   "id": "a8d54c19",
   "metadata": {},
   "outputs": [
    {
     "data": {
      "text/plain": [
       "['2006',\n",
       " '2007',\n",
       " '2008',\n",
       " '2009',\n",
       " '2010',\n",
       " '2011',\n",
       " '2012',\n",
       " '2013',\n",
       " '2014',\n",
       " '2015',\n",
       " '2016',\n",
       " '2017',\n",
       " '2018',\n",
       " '2019',\n",
       " '2020',\n",
       " '2021',\n",
       " '2022']"
      ]
     },
     "execution_count": 2,
     "metadata": {},
     "output_type": "execute_result"
    }
   ],
   "source": [
    "station_list = pd.read_json(\"./first_order_station_data/first-order-stations.json\")\n",
    "station_list.set_index(\"station\", inplace=True)\n",
    "station_data_fps = [x for x in Path(\"./first_order_station_data/\").rglob(\"*.csv\")]\n",
    "years = [str(x) for x in range(2006, 2023)]\n",
    "years"
   ]
  },
  {
   "cell_type": "code",
   "execution_count": 3,
   "id": "aef417e9",
   "metadata": {},
   "outputs": [],
   "source": [
    "cmip5_path = Path(\"/atlas_scratch/cparr4/backtest/gcms\")\n",
    "gcms = [\"5ModelAvg\", \"GFDL-CM3\", \"GISS-E2-R\", \"IPSL-CM5A-LR\", \"MRI-CGCM3\", \"CCSM4\"]\n",
    "rcps = [\"rcp45\", \"rcp60\", \"rcp85\"]\n",
    "clim_vars = [\"pr_total_mm\", \"tas_mean_C\"]\n",
    "\n",
    "cmip5_fps = [x for x in Path(cmip5_path).rglob(\"*.tif\") if x.name.split(\"_\")[-1][:-4] in years]\n",
    "\n",
    "with rio.open(cmip5_fps[0]) as src:\n",
    "    tif_crs = src.crs\n",
    "    transformer = Transformer.from_crs(\"epsg:4326\", tif_crs)\n",
    "\n",
    "assert len(cmip5_fps) == len(years)*len(gcms)*len(rcps)*len(clim_vars)*12"
   ]
  },
  {
   "cell_type": "code",
   "execution_count": 4,
   "id": "8fc09a41",
   "metadata": {},
   "outputs": [],
   "source": [
    "def parse_model(geotiff_path):\n",
    "    return [x for x in gcms if x.lower() in geotiff_path.name.lower()][0]\n",
    "\n",
    "\n",
    "def parse_scenario(geotiff_path):\n",
    "    return [x for x in rcps if x.lower() in geotiff_path.name.lower()][0]\n",
    "\n",
    "\n",
    "def parse_clim_var(geotiff_path):\n",
    "    return [x for x in clim_vars if x.lower() in geotiff_path.name.lower()][0]\n",
    "\n",
    "\n",
    "def transform_lat_lon(lat, lon):\n",
    "    yx_3338 = transformer.transform(lat, lon)\n",
    "    return yx_3338"
   ]
  },
  {
   "cell_type": "code",
   "execution_count": 6,
   "id": "b432183a",
   "metadata": {},
   "outputs": [],
   "source": [
    "def extract_point_value(geotiff_path, point):\n",
    "    with rio.open(geotiff_path) as src:\n",
    "        \n",
    "        y, x = point\n",
    "        row, col = src.index(y, x)\n",
    "        \n",
    "        window = Window(col, row, 1, 1)\n",
    "        arr = src.read(1, window=window)\n",
    "\n",
    "        year = geotiff_path.name.split(\"_\")[-1][:-4]\n",
    "        mo = geotiff_path.name.split(\"_\")[-2]\n",
    "        mo_year = f\"{mo}-{year}\"\n",
    "        \n",
    "        model = parse_model(geotiff_path)\n",
    "        scenario = parse_scenario(geotiff_path)\n",
    "        climate_variable = parse_clim_var(geotiff_path)\n",
    "\n",
    "        return mo_year, model, scenario, climate_variable, arr[0]\n",
    "\n",
    "\n",
    "def extract_point_values(geotiff_paths, points):\n",
    "    with concurrent.futures.ProcessPoolExecutor(max_workers=32) as executor:\n",
    "        # Use tqdm to create a progress bar\n",
    "        with tqdm(total=len(geotiff_paths)) as pbar:\n",
    "            # Map the extract_point_value function over the list of geotiff_paths and points\n",
    "            results = []\n",
    "            for result in executor.map(extract_point_value, geotiff_paths, points):\n",
    "                results.append(result)\n",
    "                pbar.update()\n",
    "    del executor\n",
    "\n",
    "    # Create a Pandas DataFrame from the results\n",
    "    df = pd.DataFrame(results, columns=['date', 'model', 'scenario', 'variable', 'value'])\n",
    "    return df"
   ]
  },
  {
   "cell_type": "code",
   "execution_count": 7,
   "id": "548a7d4d",
   "metadata": {},
   "outputs": [],
   "source": [
    "def group_data(flat_df):\n",
    "    groups = flat_df.groupby(['model', 'scenario', \"variable\", 'date'])[\"value\"].apply(float)\n",
    "    return groups.to_frame().sort_values(['model', 'scenario', 'variable', 'date'])"
   ]
  },
  {
   "cell_type": "code",
   "execution_count": 8,
   "id": "14a5d55d",
   "metadata": {},
   "outputs": [
    {
     "name": "stdout",
     "output_type": "stream",
     "text": [
      "Delta Junction number of pr NaN values: 7\n",
      "Replacing NaNs with mean values...\n",
      "Utqiaġvik number of pr NaN values: 2\n",
      "Replacing NaNs with mean values...\n",
      "All NaN values have been replaced with mean values.\n"
     ]
    }
   ],
   "source": [
    "di = {}\n",
    "for fp in station_data_fps:\n",
    "    station_id = fp.name.split(\"_\")[1]\n",
    "    station_name = station_list.loc[station_id][\"name\"]\n",
    "    di[station_name] = {}\n",
    "    \n",
    "    di[station_name][\"lat\"] = round(station_list.loc[station_id][\"latitude\"], 4)\n",
    "    di[station_name][\"lon\"] = round(station_list.loc[station_id][\"longitude\"], 4)\n",
    "    di[station_name][\"point_3338\"] = transform_lat_lon(di[station_name][\"lat\"], di[station_name][\"lon\"])\n",
    "    \n",
    "    di[station_name][\"ID\"] = station_id\n",
    "    station_df = pd.read_csv(fp, header=4)\n",
    "    # observed units are inches precip, degrees F\n",
    "    di[station_name][\"total_precip_observed_mm\"] = station_df[\"Monthly Total Precipitation (in)\"].values * 25.4\n",
    "    di[station_name][\"tasmean_observed_C\"] = (station_df[\"Monthly Average Mean Temperature (degF)\"].values - 32) * (5/9)\n",
    "    \n",
    "    # check for nan values\n",
    "    pr_nan_count = np.isnan(di[station_name][\"total_precip_observed_mm\"]).sum()\n",
    "    tasmean_nan_count = np.isnan(di[station_name][\"tasmean_observed_C\"]).sum()\n",
    "    \n",
    "    # Print the count of NaN values\n",
    "    if pr_nan_count != 0:\n",
    "        print(f\"{station_name} number of pr NaN values: {pr_nan_count}\")\n",
    "        print(\"Replacing NaNs with mean values...\")\n",
    "\n",
    "    if tasmean_nan_count != 0:\n",
    "        print(f\"{station_name} number of tasmean NaN values: {tasmean_nan_count}\")\n",
    "        print(\"Replacing NaNs with mean values...\")\n",
    "\n",
    "    # replace nan values with the mean of the observations\n",
    "    pr_mean = np.nanmean(di[station_name][\"total_precip_observed_mm\"])\n",
    "    tasmean_mean = np.nanmean(di[station_name][\"tasmean_observed_C\"])\n",
    " \n",
    "    # Create a Boolean mask indicating which elements are NaN\n",
    "    pr_mask = np.isnan(di[station_name][\"total_precip_observed_mm\"])\n",
    "    tasmean_mask = np.isnan(di[station_name][\"tasmean_observed_C\"])\n",
    "    \n",
    "    # Replace the NaN values with the mean\n",
    "    pr_clean = np.where(pr_mask, pr_mean, di[station_name][\"total_precip_observed_mm\"])\n",
    "    tasmean_clean = np.where(tasmean_mask, tasmean_mean, di[station_name][\"tasmean_observed_C\"])\n",
    "    \n",
    "    di[station_name][\"pr_total_mm\"] = pr_clean\n",
    "    di[station_name][\"tas_mean_C\"] = tasmean_clean\n",
    "    \n",
    "    # Verify the values were replaced\n",
    "    pr_nan_count = np.isnan(di[station_name][\"pr_total_mm\"]).sum()\n",
    "    tasmean_nan_count = np.isnan(di[station_name][\"tas_mean_C\"]).sum()\n",
    "    assert(pr_nan_count + tasmean_nan_count == 0)\n",
    "    # pop the observational data that wasn't clean\n",
    "    di[station_name].pop(\"total_precip_observed_mm\")\n",
    "    di[station_name].pop(\"tasmean_observed_C\")\n",
    "print(\"All NaN values have been replaced with mean values.\")\n"
   ]
  },
  {
   "cell_type": "code",
   "execution_count": 9,
   "id": "714400e6",
   "metadata": {},
   "outputs": [
    {
     "name": "stdout",
     "output_type": "stream",
     "text": [
      "Processing Juneau...\n"
     ]
    },
    {
     "name": "stderr",
     "output_type": "stream",
     "text": [
      "100%|███████████████████████████████████████████████████████████████████████████████████████████████████████████████████████████████████████████████████████████| 7344/7344 [00:04<00:00, 1796.60it/s]\n"
     ]
    },
    {
     "name": "stdout",
     "output_type": "stream",
     "text": [
      "Processing Juneau Complete.\n",
      "Processing Ketchikan...\n"
     ]
    },
    {
     "name": "stderr",
     "output_type": "stream",
     "text": [
      "100%|███████████████████████████████████████████████████████████████████████████████████████████████████████████████████████████████████████████████████████████| 7344/7344 [00:04<00:00, 1720.06it/s]\n"
     ]
    },
    {
     "name": "stdout",
     "output_type": "stream",
     "text": [
      "Processing Ketchikan Complete.\n",
      "Processing Kodiak...\n"
     ]
    },
    {
     "name": "stderr",
     "output_type": "stream",
     "text": [
      "100%|████████████████████████████████████████████████████████████████████████████████████████████████████████████████████████████████████████████████████████████| 7344/7344 [00:07<00:00, 985.50it/s]\n"
     ]
    },
    {
     "name": "stdout",
     "output_type": "stream",
     "text": [
      "Processing Kodiak Complete.\n",
      "Processing King Salmon...\n"
     ]
    },
    {
     "name": "stderr",
     "output_type": "stream",
     "text": [
      "100%|███████████████████████████████████████████████████████████████████████████████████████████████████████████████████████████████████████████████████████████| 7344/7344 [00:07<00:00, 1033.02it/s]\n"
     ]
    },
    {
     "name": "stdout",
     "output_type": "stream",
     "text": [
      "Processing King Salmon Complete.\n",
      "Processing Fairbanks...\n"
     ]
    },
    {
     "name": "stderr",
     "output_type": "stream",
     "text": [
      "100%|████████████████████████████████████████████████████████████████████████████████████████████████████████████████████████████████████████████████████████████| 7344/7344 [00:07<00:00, 978.65it/s]\n"
     ]
    },
    {
     "name": "stdout",
     "output_type": "stream",
     "text": [
      "Processing Fairbanks Complete.\n",
      "Processing Delta Junction...\n"
     ]
    },
    {
     "name": "stderr",
     "output_type": "stream",
     "text": [
      "100%|███████████████████████████████████████████████████████████████████████████████████████████████████████████████████████████████████████████████████████████| 7344/7344 [00:07<00:00, 1033.67it/s]\n"
     ]
    },
    {
     "name": "stdout",
     "output_type": "stream",
     "text": [
      "Processing Delta Junction Complete.\n",
      "Processing Anchorage...\n"
     ]
    },
    {
     "name": "stderr",
     "output_type": "stream",
     "text": [
      "100%|███████████████████████████████████████████████████████████████████████████████████████████████████████████████████████████████████████████████████████████| 7344/7344 [00:06<00:00, 1149.49it/s]\n"
     ]
    },
    {
     "name": "stdout",
     "output_type": "stream",
     "text": [
      "Processing Anchorage Complete.\n",
      "Processing Nome...\n"
     ]
    },
    {
     "name": "stderr",
     "output_type": "stream",
     "text": [
      "100%|███████████████████████████████████████████████████████████████████████████████████████████████████████████████████████████████████████████████████████████| 7344/7344 [00:06<00:00, 1059.69it/s]\n"
     ]
    },
    {
     "name": "stdout",
     "output_type": "stream",
     "text": [
      "Processing Nome Complete.\n",
      "Processing Utqiaġvik...\n"
     ]
    },
    {
     "name": "stderr",
     "output_type": "stream",
     "text": [
      "100%|███████████████████████████████████████████████████████████████████████████████████████████████████████████████████████████████████████████████████████████| 7344/7344 [00:07<00:00, 1028.52it/s]\n"
     ]
    },
    {
     "name": "stdout",
     "output_type": "stream",
     "text": [
      "Processing Utqiaġvik Complete.\n"
     ]
    }
   ],
   "source": [
    "for k in di.keys():\n",
    "    print(f\"Processing {k}...\")\n",
    "    df = group_data(extract_point_values(cmip5_fps, [di[k][\"point_3338\"]] * len(cmip5_fps)))\n",
    "    di[k][\"extracted_data\"] = df\n",
    "    del df\n",
    "    print(f\"Processing {k} Complete.\")"
   ]
  },
  {
   "cell_type": "markdown",
   "id": "68e8c534",
   "metadata": {},
   "source": [
    "# Nine Point Extractions from 20 GB of GeoTIFFs...pretty fast!"
   ]
  },
  {
   "cell_type": "code",
   "execution_count": 10,
   "id": "a783494a",
   "metadata": {},
   "outputs": [],
   "source": [
    "with open('extracted_data/ak_station_extractions.pickle', 'wb') as handle:\n",
    "    pickle.dump(di, handle, protocol=pickle.HIGHEST_PROTOCOL)"
   ]
  },
  {
   "cell_type": "code",
   "execution_count": 11,
   "id": "f826a39f",
   "metadata": {},
   "outputs": [
    {
     "data": {
      "text/plain": [
       "{'lat': 64.8039,\n",
       " 'lon': -147.8761,\n",
       " 'point_3338': (290502.5512221125, 1662590.802400273),\n",
       " 'ID': 'USW00026411',\n",
       " 'pr_total_mm': array([  5.588,  19.304,   5.588,  10.16 ,   4.572,  18.034,  56.896,\n",
       "         54.864,  14.224,  14.224,   2.286,  12.192,  12.7  ,   3.048,\n",
       "          5.08 ,   2.54 ,  21.844,  47.752,  93.218,  38.608,  40.132,\n",
       "         12.954,   2.794,   7.874,  23.622,   4.572,   2.54 ,  32.258,\n",
       "         12.7  ,  52.832, 104.648,  67.564,  16.256,  19.304,   7.112,\n",
       "         12.7  ,  13.208,  14.986,  27.686,   2.286,   1.27 ,  39.37 ,\n",
       "          1.524,  69.088,  13.462,  12.7  ,   7.874,   9.144,   0.762,\n",
       "          3.81 ,   2.286,   7.366,   6.096,  34.544,  78.994,  37.084,\n",
       "         30.226,  11.43 ,  43.434,   5.842,   4.826,  41.148,   3.81 ,\n",
       "          1.778,   1.016,  44.958,  43.18 ,  40.64 ,  16.51 ,   8.128,\n",
       "         11.684,  24.13 ,  17.526,  10.668,  18.796,   1.778,  18.542,\n",
       "         35.306,  43.688,  36.83 ,  13.97 ,  35.052,   7.366,  30.226,\n",
       "         20.066,  12.192,   6.604,  16.764,   3.81 ,  10.922,  25.654,\n",
       "         51.308,  44.196,  14.986,  44.196,  19.812,   5.588,  10.16 ,\n",
       "          5.334,   5.08 ,   1.524,  90.424, 146.812,  58.166,  73.406,\n",
       "         11.176,   4.572,  23.622,   3.81 ,  12.192,  12.446,   4.064,\n",
       "          7.366,  26.162,  70.612,  65.532,  94.996,  21.082,  45.212,\n",
       "          1.778,   0.254,   1.27 ,  13.462,  13.208,  19.812,  83.566,\n",
       "        126.238,  39.624,  52.832,   0.508,   7.366,  50.546,  24.384,\n",
       "         31.496,   4.318,   2.286,  14.986,  43.942,  49.276,  54.61 ,\n",
       "         36.068,  61.976,  34.544,   9.652,  27.94 ,  39.624,  14.732,\n",
       "          3.81 ,  29.21 ,  14.478,  25.654, 105.41 ,  47.244,  13.208,\n",
       "         17.272,  10.668,  16.51 ,  20.066,  11.43 ,  14.986,  25.654,\n",
       "         38.354,  22.606, 141.732,  26.416,  42.672,  46.482,   9.652,\n",
       "         10.668,  12.7  ,  40.386,  32.258,  12.446,  78.486,  58.674,\n",
       "         53.848,  30.734,  17.78 ,  35.052,   5.588,   1.016,  34.798,\n",
       "         22.606,  34.29 ,   9.144,  26.924,  55.372,  93.218,   9.398,\n",
       "         33.274,  10.414, 145.542,   5.08 ,  36.576,   3.302,   0.508,\n",
       "         27.686,  13.462,  12.954,  35.306,  36.83 ,  19.558,  16.256,\n",
       "         28.702]),\n",
       " 'tas_mean_C': array([-30.07222222, -14.68333333, -16.12777778,  -1.40555556,\n",
       "          9.82777778,  14.48888889,  16.26111111,  12.43888889,\n",
       "          9.72222222,  -0.18888889, -23.28888889, -18.87777778,\n",
       "        -21.46111111, -21.50555556, -21.4       ,   3.09444444,\n",
       "         10.57222222,  16.44444444,  18.01111111,  15.84444444,\n",
       "          8.36111111,  -6.01111111, -11.4       , -19.63888889,\n",
       "        -22.89444444, -21.07222222,  -9.21111111,  -1.38888889,\n",
       "          9.92777778,  15.67777778,  15.90555556,  12.76111111,\n",
       "          8.12777778,  -9.41111111, -18.57222222, -22.10555556,\n",
       "        -24.41666667, -18.6       , -14.66666667,  -0.45555556,\n",
       "         10.85      ,  15.69444444,  19.15      ,  12.47222222,\n",
       "          9.16666667,  -0.71666667, -18.46111111, -19.35555556,\n",
       "        -25.40555556, -16.18888889, -11.78333333,   4.12777778,\n",
       "         12.19444444,  15.43333333,  17.02777778,  15.48333333,\n",
       "          8.4       ,  -2.48888889, -11.15555556, -27.70555556,\n",
       "        -21.11111111, -21.4       , -13.75555556,  -0.12777778,\n",
       "         11.33333333,  15.79444444,  16.51666667,  13.98888889,\n",
       "          9.4       ,  -1.72777778, -22.33333333, -15.56666667,\n",
       "        -32.69444444, -14.49444444, -15.29444444,   2.71111111,\n",
       "          8.82777778,  16.43333333,  16.01111111,  13.48333333,\n",
       "          7.51666667,  -5.26666667, -22.63888889, -27.36666667,\n",
       "        -19.25      , -18.57222222, -13.81666667,  -7.80555556,\n",
       "          6.81666667,  19.33333333,  17.93888889,  15.21666667,\n",
       "          6.54444444,   2.29444444, -14.4       , -20.28888889,\n",
       "        -13.53888889, -20.2       , -10.05555556,   1.06666667,\n",
       "         10.73333333,  14.67777778,  16.11111111,  15.04444444,\n",
       "          7.98333333,  -3.8       , -11.80555556, -13.30555556,\n",
       "        -21.37222222, -17.23333333,  -9.18333333,   2.66666667,\n",
       "         12.92222222,  15.41666667,  16.78333333,  12.53333333,\n",
       "          5.77777778,  -0.1       , -12.73888889, -18.97777778,\n",
       "        -15.84444444, -13.38888889,  -6.77222222,   5.78888889,\n",
       "         11.91111111,  15.53888889,  17.44444444,  16.19444444,\n",
       "          7.90555556,  -2.92777778, -15.73333333, -22.42777778,\n",
       "        -23.04444444, -17.4       , -19.43333333,   2.26111111,\n",
       "          9.87222222,  17.1       ,  18.72777778,  14.89444444,\n",
       "          8.87777778,  -0.45555556, -15.11111111, -12.80555556,\n",
       "        -21.11111111, -16.32777778,  -9.10555556,  -0.37777778,\n",
       "          9.82222222,  14.90555556,  17.73333333,  13.04444444,\n",
       "          8.98888889,   1.40555556, -11.27777778, -17.73333333,\n",
       "        -21.59444444, -14.74444444,  -2.42777778,   2.76111111,\n",
       "         12.13333333,  17.51111111,  18.87777778,  13.11666667,\n",
       "          9.12777778,  -0.17222222, -10.44444444, -20.75      ,\n",
       "        -29.66666667, -21.12222222, -12.87777778,  -0.81666667,\n",
       "         11.82777778,  15.44444444,  16.09444444,  15.40555556,\n",
       "          8.66666667,  -2.56111111, -16.65      , -17.66111111,\n",
       "        -18.58333333, -22.90555556, -14.51666667,  -3.01111111,\n",
       "         11.03888889,  17.28888889,  18.2       ,  13.77222222,\n",
       "          6.71111111,  -0.67222222, -17.43333333, -16.96111111,\n",
       "        -22.01666667, -17.84444444, -10.35      ,  -2.06666667,\n",
       "          9.28333333,  17.01111111,  17.42777778,  14.98888889,\n",
       "          8.77777778,  -2.03333333, -12.71111111, -20.25      ]),\n",
       " 'extracted_data':                                         value\n",
       " model     scenario variable    date          \n",
       " 5ModelAvg rcp45    pr_total_mm 01-2006   10.0\n",
       "                                01-2007   15.0\n",
       "                                01-2008   19.0\n",
       "                                01-2009   10.0\n",
       "                                01-2010    8.0\n",
       " ...                                       ...\n",
       " MRI-CGCM3 rcp85    tas_mean_C  12-2018  -14.0\n",
       "                                12-2019  -15.5\n",
       "                                12-2020  -13.7\n",
       "                                12-2021  -17.6\n",
       "                                12-2022  -18.1\n",
       " \n",
       " [7344 rows x 1 columns]}"
      ]
     },
     "execution_count": 11,
     "metadata": {},
     "output_type": "execute_result"
    }
   ],
   "source": [
    "di[\"Fairbanks\"]"
   ]
  },
  {
   "cell_type": "code",
   "execution_count": null,
   "id": "bcf8dec7",
   "metadata": {},
   "outputs": [],
   "source": []
  }
 ],
 "metadata": {
  "kernelspec": {
   "display_name": "Python 3 (ipykernel)",
   "language": "python",
   "name": "python3"
  },
  "language_info": {
   "codemirror_mode": {
    "name": "ipython",
    "version": 3
   },
   "file_extension": ".py",
   "mimetype": "text/x-python",
   "name": "python",
   "nbconvert_exporter": "python",
   "pygments_lexer": "ipython3",
   "version": "3.11.0"
  }
 },
 "nbformat": 4,
 "nbformat_minor": 5
}
